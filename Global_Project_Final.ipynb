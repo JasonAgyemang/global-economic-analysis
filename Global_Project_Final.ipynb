{
 "cells": [
  {
   "cell_type": "markdown",
   "id": "2faa252b",
   "metadata": {},
   "source": [
    "\n",
    "# 🌍 Global Economic Analysis\n",
    "\n",
    "## 📌 Project Goal  \n",
    "This project analyzes **GDP (Gross Domestic Product) and inflation trends** across different countries over time.  \n",
    "- **GDP** measures economic size & growth.  \n",
    "- **Inflation** measures price increases & economic stability.  \n",
    "- The goal is to identify **which countries are growing stably and which face economic instability**.  \n",
    "\n",
    "---\n"
   ]
  },
  {
   "cell_type": "markdown",
   "id": "bfa98840",
   "metadata": {},
   "source": [
    "## 📊 GDP Data Processing\n",
    "# Project Global Economic Insights – GDP, Inflation, and Unemployment Analysis"
   ]
  },
  {
   "cell_type": "markdown",
   "id": "31efe93c",
   "metadata": {},
   "source": [
    "## 📊 GDP Data Processing\n",
    "## Cleaning & Multi Index of GDP Data"
   ]
  },
  {
   "cell_type": "code",
   "execution_count": null,
   "id": "71df762b",
   "metadata": {},
   "outputs": [],
   "source": [
    "# Import necessary libraries\n",
    "import pandas as pd"
   ]
  },
  {
   "cell_type": "code",
   "execution_count": null,
   "id": "cd851a46",
   "metadata": {},
   "outputs": [],
   "source": [
    "GDP=pd.read_csv(\"GDP of world countries.csv\")\n",
    "GDP.head()"
   ]
  },
  {
   "cell_type": "code",
   "execution_count": null,
   "id": "0d242fa9",
   "metadata": {},
   "outputs": [],
   "source": [
    "# Remove unnecessary columns\n",
    "GDP= GDP.drop(columns=[\"Country Code\",\"Indicator Name\",\"Indicator Code\"])"
   ]
  },
  {
   "cell_type": "code",
   "execution_count": null,
   "id": "7c52bd35",
   "metadata": {},
   "outputs": [],
   "source": [
    "GDP.head()"
   ]
  },
  {
   "cell_type": "code",
   "execution_count": null,
   "id": "9f69ca9f",
   "metadata": {},
   "outputs": [],
   "source": [
    "GDP=GDP.melt(id_vars=\"Country Name\",var_name=\"Year\",value_name=\"GDP\")"
   ]
  },
  {
   "cell_type": "code",
   "execution_count": null,
   "id": "4f102460",
   "metadata": {},
   "outputs": [],
   "source": [
    "GDP.head()"
   ]
  },
  {
   "cell_type": "code",
   "execution_count": null,
   "id": "fb16fa1a",
   "metadata": {},
   "outputs": [],
   "source": [
    "GDP[\"Year\"]=GDP[\"Year\"].astype(int)\n",
    "GDP.dtypes"
   ]
  },
  {
   "cell_type": "code",
   "execution_count": null,
   "id": "a6a66cd0",
   "metadata": {},
   "outputs": [],
   "source": [
    "GDP=GDP.dropna(how=\"any\")\n",
    "GDP.head()"
   ]
  },
  {
   "cell_type": "code",
   "execution_count": null,
   "id": "94b28537",
   "metadata": {},
   "outputs": [],
   "source": [
    "# Set multi-index for better data handling\n",
    "#GDP.set_index([\"Country Name\", \"Year\"], inplace=True)\n",
    "#GDP.sort_index(inplace=True)"
   ]
  },
  {
   "cell_type": "code",
   "execution_count": null,
   "id": "3dee4a4a",
   "metadata": {},
   "outputs": [],
   "source": [
    "GDP"
   ]
  },
  {
   "cell_type": "code",
   "execution_count": null,
   "id": "fc4476c7",
   "metadata": {},
   "outputs": [],
   "source": [
    "inflation=pd.read_csv(\"Inflation data.csv\")\n",
    "inflation.head()"
   ]
  },
  {
   "cell_type": "code",
   "execution_count": null,
   "id": "5ad4b6d8",
   "metadata": {},
   "outputs": [],
   "source": [
    "# Remove unnecessary columns\n",
    "inflation=inflation.drop(columns=[\"Country Code\",\"Indicator Name\",\"Indicator Code\"])"
   ]
  },
  {
   "cell_type": "code",
   "execution_count": null,
   "id": "49d24af4",
   "metadata": {},
   "outputs": [],
   "source": [
    "inflation.head()"
   ]
  },
  {
   "cell_type": "code",
   "execution_count": null,
   "id": "94b71653",
   "metadata": {},
   "outputs": [],
   "source": [
    "inflation=inflation.melt(id_vars=\"Country Name\",var_name=\"Year\",value_name=\"Inflation\")\n",
    "inflation.head()"
   ]
  },
  {
   "cell_type": "code",
   "execution_count": null,
   "id": "5d0e8dbb",
   "metadata": {},
   "outputs": [],
   "source": [
    "inflation[\"Year\"]=inflation[\"Year\"].astype(int)\n",
    "inflation.dtypes"
   ]
  },
  {
   "cell_type": "code",
   "execution_count": null,
   "id": "a4347ddc",
   "metadata": {},
   "outputs": [],
   "source": [
    "inflation=inflation.dropna(how=\"any\")\n",
    "inflation.head()"
   ]
  },
  {
   "cell_type": "code",
   "execution_count": null,
   "id": "1366ba51",
   "metadata": {},
   "outputs": [],
   "source": [
    "# Set multi-index for better data handling\n",
    "#inflation.set_index([\"Country Name\", \"Year\"], inplace=True)\n",
    "#inflation.sort_index(inplace=True)"
   ]
  },
  {
   "cell_type": "code",
   "execution_count": null,
   "id": "4819afe6",
   "metadata": {},
   "outputs": [],
   "source": [
    "inflation"
   ]
  },
  {
   "cell_type": "code",
   "execution_count": null,
   "id": "093b3b34",
   "metadata": {},
   "outputs": [],
   "source": [
    "# Merge GDP and inflation datasets\n",
    "economic=GDP.merge(inflation,how=\"inner\",on=[\"Country Name\",\"Year\"])"
   ]
  },
  {
   "cell_type": "code",
   "execution_count": null,
   "id": "7252a8b6",
   "metadata": {},
   "outputs": [],
   "source": [
    "economic.head()"
   ]
  },
  {
   "cell_type": "code",
   "execution_count": null,
   "id": "f109575a",
   "metadata": {},
   "outputs": [],
   "source": [
    "# Set multi-index for better data handling\n",
    "economic.set_index([\"Country Name\", \"Year\"], inplace=True)"
   ]
  },
  {
   "cell_type": "code",
   "execution_count": null,
   "id": "7a56580b",
   "metadata": {},
   "outputs": [],
   "source": [
    "economic.head()"
   ]
  },
  {
   "cell_type": "code",
   "execution_count": null,
   "id": "fcd5ed55",
   "metadata": {},
   "outputs": [],
   "source": [
    "import matplotlib.pyplot as plt \n",
    "import matplotlib.pyplot as plt  # For visualization"
   ]
  },
  {
   "cell_type": "code",
   "execution_count": null,
   "id": "cbca74d5",
   "metadata": {},
   "outputs": [],
   "source": [
    "# Generate visualization\n",
    "import matplotlib.pyplot as plt\n",
    "\n",
    "# Select a few countries for visualization\n",
    "countries = [\"United States\", \"China\", \"Mexico\", \"Saudi Arabia\",\"Japan\",\"Canada\"]\n",
    "\n",
    "# Filter data for selected countries\n",
    "economic_filtered = economic.loc[economic.index.get_level_values(\"Country Name\").isin(countries)]\n",
    "\n",
    "# Plot GDP trends\n",
    "economic_filtered[\"GDP\"].unstack(level=0).plot(figsize=(12, 6), marker=\"o\")\n",
    "\n",
    "plt.title(\"GDP Trends Over Time\")\n",
    "plt.ylabel(\"GDP in USD\")\n",
    "plt.xlabel(\"Year\")\n",
    "plt.legend(title=\"Country\")\n",
    "plt.grid(True)\n",
    "plt.show()\n",
    "\n",
    "import matplotlib.pyplot as plt  # For visualization"
   ]
  },
  {
   "cell_type": "code",
   "execution_count": null,
   "id": "aa637112",
   "metadata": {},
   "outputs": [],
   "source": [
    "economic"
   ]
  },
  {
   "cell_type": "code",
   "execution_count": null,
   "id": "d10f22cd",
   "metadata": {},
   "outputs": [],
   "source": [
    "\n",
    "import seaborn as sns\n",
    "\n",
    "# Sample a few countries for clarity\n",
    "economic_sample = economic.loc[economic.index.get_level_values(\"Country Name\").isin(countries)].reset_index()\n",
    "\n",
    "plt.figure(figsize=(10, 6))\n",
    "sns.scatterplot(data=economic_sample, x=\"GDP\", y=\"Inflation\", hue=\"Country Name\")\n",
    "\n",
    "plt.title(\"GDP vs Inflation\")\n",
    "plt.xscale(\"log\")  # Log scale for better visualization\n",
    "plt.xlabel(\"GDP (Log Scale)\")\n",
    "plt.ylabel(\"Inflation Rate (%)\")\n",
    "plt.legend(title=\"Country\")\n",
    "plt.grid(True)\n",
    "plt.show()\n"
   ]
  },
  {
   "cell_type": "code",
   "execution_count": null,
   "id": "7c500322",
   "metadata": {},
   "outputs": [],
   "source": [
    "import seaborn as sns\n",
    "\n",
    "# Pivot data for heatmap\n",
    "inflation_pivot = economic[\"Inflation\"].unstack(level=0)  # Years as index, Countries as columns\n",
    "\n",
    "plt.figure(figsize=(12, 6))\n",
    "sns.heatmap(inflation_pivot, cmap=\"coolwarm\", linewidths=0.5)\n",
    "\n",
    "plt.title(\"Inflation Rate Over Time\")\n",
    "plt.xlabel(\"Country\")\n",
    "plt.ylabel(\"Year\")\n",
    "plt.show()\n"
   ]
  },
  {
   "cell_type": "code",
   "execution_count": null,
   "id": "df614674",
   "metadata": {},
   "outputs": [],
   "source": [
    "# Generate visualization\n",
    "# Select high-GDP countries\n",
    "high_gdp_countries = [\"United States\", \"China\", \"Japan\", \"Germany\", \"United Kingdom\", \"France\", \"India\"]\n",
    "\n",
    "# Filter dataset for selected countries\n",
    "avg_inflation_high_gdp = economic.loc[economic.index.get_level_values(\"Country Name\").isin(high_gdp_countries)]\n",
    "avg_inflation_high_gdp = avg_inflation_high_gdp.groupby(\"Country Name\")[\"Inflation\"].mean().sort_values(ascending=False)\n",
    "\n",
    "# Plot bar chart\n",
    "plt.figure(figsize=(10, 5))\n",
    "avg_inflation_high_gdp.plot(kind=\"bar\", color=\"royalblue\")\n",
    "\n",
    "plt.title(\"Average Inflation Rate (High-GDP Countries)\")\n",
    "plt.ylabel(\"Average Inflation (%)\")\n",
    "plt.xlabel(\"Country\")\n",
    "plt.xticks(rotation=45)\n",
    "plt.grid(axis=\"y\", linestyle=\"--\", alpha=0.7)\n",
    "plt.show()\n",
    "\n"
   ]
  },
  {
   "cell_type": "code",
   "execution_count": null,
   "id": "3872c2ab",
   "metadata": {},
   "outputs": [],
   "source": []
  },
  {
   "cell_type": "markdown",
   "id": "410021fe",
   "metadata": {},
   "source": [
    "\n",
    "## 📢 Key Findings  \n",
    "\n",
    "- **GDP Growth:** China & India show rapid growth, while the U.S. grows steadily.  \n",
    "- **Stable Economies:** USA & Germany have strong GDP growth with controlled inflation.  \n",
    "- **High Inflation Risks:** Countries like Argentina & Turkey experience economic instability.  \n",
    "- **Recession Effects:** The 2008 crisis & COVID-19 (2020-22) caused global inflation spikes.  \n",
    "\n",
    "## ✅ Conclusion  \n",
    "- **A strong economy balances GDP growth & inflation control.**  \n",
    "- **Countries with high GDP but unstable inflation may face economic crises.**  \n",
    "- **Developed economies manage inflation better than emerging markets.**  \n",
    "\n",
    "## 🚀 Future Improvements  \n",
    "- Add **unemployment data** to analyze job markets.  \n",
    "- Use **machine learning** to predict economic trends.  \n",
    "- Expand dataset to include **more developing countries**.  \n"
   ]
  }
 ],
 "metadata": {
  "kernelspec": {
   "display_name": "Python 3 (ipykernel)",
   "language": "python",
   "name": "python3"
  },
  "language_info": {
   "codemirror_mode": {
    "name": "ipython",
    "version": 3
   },
   "file_extension": ".py",
   "mimetype": "text/x-python",
   "name": "python",
   "nbconvert_exporter": "python",
   "pygments_lexer": "ipython3",
   "version": "3.12.8"
  }
 },
 "nbformat": 4,
 "nbformat_minor": 5
}
